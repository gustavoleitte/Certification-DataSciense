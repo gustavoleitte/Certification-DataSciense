{
  "metadata": {
    "kernelspec": {
      "name": "python",
      "display_name": "Python (Pyodide)",
      "language": "python"
    },
    "language_info": {
      "codemirror_mode": {
        "name": "python",
        "version": 3
      },
      "file_extension": ".py",
      "mimetype": "text/x-python",
      "name": "python",
      "nbconvert_exporter": "python",
      "pygments_lexer": "ipython3",
      "version": "3.8"
    }
  },
  "nbformat_minor": 5,
  "nbformat": 4,
  "cells": [
    {
      "id": "5eae58c2-32e6-4536-9435-fd6857f24e1b",
      "cell_type": "markdown",
      "source": "# Data Science Tools and Ecosystem",
      "metadata": {}
    },
    {
      "id": "820221ed-393f-4eab-be58-e8ac3742c2b6",
      "cell_type": "markdown",
      "source": "Neste notebook, as ferramentas e ecossistema da Ciência de Dados são resumidos.",
      "metadata": {},
      "attachments": {}
    },
    {
      "id": "8bee3a41-d309-4ed8-8ba3-92180029653b",
      "cell_type": "markdown",
      "source": "**Objetivos:**\n\n- Listar as linguagens populares para Ciência de Dados.\n- Identificar bibliotecas comumente usadas em Ciência de Dados.\n- Conhecer ferramentas open-source para desenvolvimento em Ciência de Dados.\n- Avaliar expressões aritméticas simples em Python.\n",
      "metadata": {}
    },
    {
      "id": "19fe791f-5ab9-4758-8858-573e5b1b2bee",
      "cell_type": "markdown",
      "source": "Algumas das linguagens populares que os Cientistas de Dados usam são\n\n1. Python\n2. R\n3. SQL\n4. Julia",
      "metadata": {}
    },
    {
      "id": "fca92bf5-3243-4519-a6a8-d726c857c51e",
      "cell_type": "markdown",
      "source": "Algumas das bibliotecas comumente usadas pelos Cientistas de Dados incluem:\n\n1. Pandas\n2. NumPy\n3. Matplotlib",
      "metadata": {}
    },
    {
      "id": "65ed2c1d-dbdf-4e90-a37d-c22c53dbdfc0",
      "cell_type": "markdown",
      "source": "| Data Science Tools |\n| ------------------ |\n| Jupyter Notebook   |\n| RStudio            |\n| Apache Zeppelin    |",
      "metadata": {}
    },
    {
      "id": "ae62825f-a8ee-45d9-958f-e850d865e345",
      "cell_type": "markdown",
      "source": "### Abaixo estão alguns exemplos de avaliação de expressões aritméticas em Python.\n\n1. Soma: `5 + 3` → Resultado: `8`\n2. Subtração: `10 - 4` → Resultado: `6`\n3. Multiplicação: `7 * 2` → Resultado: `14`\n4. Divisão: `20 / 5` → Resultado: `4.0`\n5. Potência: `2 ** 3` → Resultado: `8`\n6. Módulo: `10 % 3` → Resultado: `1`",
      "metadata": {}
    },
    {
      "id": "4d8425fa-1eaa-4215-a79d-0ac0baeb0b44",
      "cell_type": "code",
      "source": "# Esta é uma expressão aritmética simples para multiplicar e depois somar inteiros.\n\nresultado = (3 * 4) + 5\nresultado",
      "metadata": {
        "trusted": true
      },
      "outputs": [
        {
          "execution_count": 5,
          "output_type": "execute_result",
          "data": {
            "text/plain": "17"
          },
          "metadata": {}
        }
      ],
      "execution_count": 5
    },
    {
      "id": "2cbfd875-5edc-4494-9398-301b8683add0",
      "cell_type": "code",
      "source": "# Isto converterá 200 minutos em horas dividindo por 60.\n\nhoras = 200 / 60\nhoras\n",
      "metadata": {
        "trusted": true
      },
      "outputs": [
        {
          "execution_count": 6,
          "output_type": "execute_result",
          "data": {
            "text/plain": "3.3333333333333335"
          },
          "metadata": {}
        }
      ],
      "execution_count": 6
    },
    {
      "id": "bf42bc79-4509-44d8-b7c2-1bb532f38ccc",
      "cell_type": "markdown",
      "source": "## Autor\n\nGustavo Leite Brito",
      "metadata": {}
    },
    {
      "id": "a841cb0b-93ef-4752-a8ac-a73cc319456f",
      "cell_type": "code",
      "source": "",
      "metadata": {
        "trusted": true
      },
      "outputs": [],
      "execution_count": null
    }
  ]
}